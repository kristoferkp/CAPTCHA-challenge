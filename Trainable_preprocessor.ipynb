{
 "cells": [
  {
   "cell_type": "markdown",
   "metadata": {},
   "source": [
    "### Package Installation and Environment Setup\n",
    "* Install required packages\n",
    "* Check PyTorch installation and CUDA availability"
   ]
  },
  {
   "cell_type": "code",
   "execution_count": null,
   "metadata": {},
   "outputs": [
    {
     "name": "stdout",
     "output_type": "stream",
     "text": [
      "Requirement already satisfied: numpy in c:\\python312\\lib\\site-packages (2.1.2)\n",
      "Requirement already satisfied: torch in c:\\python312\\lib\\site-packages (2.6.0+cu126)\n",
      "Requirement already satisfied: torchvision in c:\\python312\\lib\\site-packages (0.21.0)\n",
      "Requirement already satisfied: pillow in c:\\python312\\lib\\site-packages (11.0.0)\n",
      "Requirement already satisfied: matplotlib in c:\\python312\\lib\\site-packages (3.10.1)\n",
      "Requirement already satisfied: tqdm in c:\\python312\\lib\\site-packages (4.67.1)\n",
      "Requirement already satisfied: gdown in c:\\python312\\lib\\site-packages (5.2.0)\n",
      "Requirement already satisfied: opencv-python in c:\\python312\\lib\\site-packages (4.10.0.84)\n",
      "Requirement already satisfied: filelock in c:\\python312\\lib\\site-packages (from torch) (3.18.0)\n",
      "Requirement already satisfied: typing-extensions>=4.10.0 in c:\\python312\\lib\\site-packages (from torch) (4.12.2)\n",
      "Requirement already satisfied: networkx in c:\\python312\\lib\\site-packages (from torch) (3.4.2)\n",
      "Requirement already satisfied: jinja2 in c:\\python312\\lib\\site-packages (from torch) (3.1.6)\n",
      "Requirement already satisfied: fsspec in c:\\python312\\lib\\site-packages (from torch) (2025.3.0)\n",
      "Requirement already satisfied: setuptools in c:\\python312\\lib\\site-packages (from torch) (77.0.3)\n",
      "Requirement already satisfied: sympy==1.13.1 in c:\\python312\\lib\\site-packages (from torch) (1.13.1)\n",
      "Requirement already satisfied: mpmath<1.4,>=1.1.0 in c:\\python312\\lib\\site-packages (from sympy==1.13.1->torch) (1.3.0)\n",
      "Requirement already satisfied: contourpy>=1.0.1 in c:\\python312\\lib\\site-packages (from matplotlib) (1.3.1)\n",
      "Requirement already satisfied: cycler>=0.10 in c:\\python312\\lib\\site-packages (from matplotlib) (0.12.1)\n",
      "Requirement already satisfied: fonttools>=4.22.0 in c:\\python312\\lib\\site-packages (from matplotlib) (4.56.0)\n",
      "Requirement already satisfied: kiwisolver>=1.3.1 in c:\\python312\\lib\\site-packages (from matplotlib) (1.4.8)\n",
      "Requirement already satisfied: packaging>=20.0 in c:\\users\\krist\\appdata\\roaming\\python\\python312\\site-packages (from matplotlib) (23.2)\n",
      "Requirement already satisfied: pyparsing>=2.3.1 in c:\\python312\\lib\\site-packages (from matplotlib) (3.2.1)\n",
      "Requirement already satisfied: python-dateutil>=2.7 in c:\\users\\krist\\appdata\\roaming\\python\\python312\\site-packages (from matplotlib) (2.8.2)\n",
      "Requirement already satisfied: colorama in c:\\users\\krist\\appdata\\roaming\\python\\python312\\site-packages (from tqdm) (0.4.6)\n",
      "Requirement already satisfied: beautifulsoup4 in c:\\python312\\lib\\site-packages (from gdown) (4.12.3)\n",
      "Requirement already satisfied: requests[socks] in c:\\python312\\lib\\site-packages (from gdown) (2.32.3)\n",
      "Requirement already satisfied: six>=1.5 in c:\\users\\krist\\appdata\\roaming\\python\\python312\\site-packages (from python-dateutil>=2.7->matplotlib) (1.16.0)\n",
      "Requirement already satisfied: soupsieve>1.2 in c:\\python312\\lib\\site-packages (from beautifulsoup4->gdown) (2.6)\n",
      "Requirement already satisfied: MarkupSafe>=2.0 in c:\\python312\\lib\\site-packages (from jinja2->torch) (3.0.2)\n",
      "Requirement already satisfied: charset-normalizer<4,>=2 in c:\\python312\\lib\\site-packages (from requests[socks]->gdown) (3.4.0)\n",
      "Requirement already satisfied: idna<4,>=2.5 in c:\\python312\\lib\\site-packages (from requests[socks]->gdown) (3.10)\n",
      "Requirement already satisfied: urllib3<3,>=1.21.1 in c:\\python312\\lib\\site-packages (from requests[socks]->gdown) (2.2.3)\n",
      "Requirement already satisfied: certifi>=2017.4.17 in c:\\python312\\lib\\site-packages (from requests[socks]->gdown) (2024.8.30)\n",
      "Requirement already satisfied: PySocks!=1.5.7,>=1.5.6 in c:\\python312\\lib\\site-packages (from requests[socks]->gdown) (1.7.1)\n",
      "PyTorch version: 2.6.0+cu126\n",
      "CUDA available: True\n",
      "CUDA device: NVIDIA GeForce RTX 3060 Ti\n"
     ]
    },
    {
     "name": "stderr",
     "output_type": "stream",
     "text": [
      "\n",
      "[notice] A new release of pip is available: 24.3.1 -> 25.0.1\n",
      "[notice] To update, run: python.exe -m pip install --upgrade pip\n"
     ]
    }
   ],
   "source": [
    "!pip install numpy torch torchvision pillow matplotlib tqdm gdown opencv-python\n",
    "import torch\n",
    "print(f\"PyTorch version: {torch.__version__}\")\n",
    "print(f\"CUDA available: {torch.cuda.is_available()}\")\n",
    "if torch.cuda.is_available():\n",
    "    print(f\"CUDA device: {torch.cuda.get_device_name(0)}\")"
   ]
  },
  {
   "cell_type": "markdown",
   "metadata": {},
   "source": [
    "### Download and Extract CAPTCHA Images from Google Drive"
   ]
  },
  {
   "cell_type": "code",
   "execution_count": null,
   "metadata": {},
   "outputs": [
    {
     "name": "stdout",
     "output_type": "stream",
     "text": [
      "Downloading CAPTCHA images from Google Drive...\n"
     ]
    }
   ],
   "source": [
    "import os\n",
    "import gdown\n",
    "from pathlib import Path\n",
    "import zipfile\n",
    "import shutil\n",
    "\n",
    "# Create directories\n",
    "os.makedirs('data', exist_ok=True)\n",
    "os.makedirs('data/images', exist_ok=True)\n",
    "\n",
    "file_id = '1Qy4geTaJqoRPuaut8V-VFQYpnQS4gTds'\n",
    "output = 'data/captcha_images.zip'\n",
    "CAPTCHA_DIR = 'data/images'\n",
    "\n",
    "# Check if the directory already exists\n",
    "if os.path.exists(CAPTCHA_DIR) and os.listdir(CAPTCHA_DIR):\n",
    "    print(f\"Directory '{CAPTCHA_DIR}' already exists and is not empty.\")\n",
    "\n",
    "else:\n",
    "    print(f\"Directory '{CAPTCHA_DIR}' does not exist or is empty. Proceeding with download.\")\n",
    "    print(\"Downloading CAPTCHA images from Google Drive...\")\n",
    "    try:\n",
    "        url = f'https://drive.google.com/uc?id={file_id}'\n",
    "        gdown.download(url, output, quiet=False)\n",
    "        print(\"Download complete!\")\n",
    "        print(\"Extracting ZIP file...\")\n",
    "        try:\n",
    "            with zipfile.ZipFile(output, 'r') as zip_ref:\n",
    "                zip_ref.extractall('data')\n",
    "            print(\"Extraction complete!\")\n",
    "\n",
    "            # Check where the PNG files actually went and move them if needed\n",
    "            data_dir_files = [f for f in os.listdir('data') if f.lower().endswith('.png')]\n",
    "\n",
    "            if data_dir_files:\n",
    "                print(f\"Found {len(data_dir_files)} PNG files in 'data' directory\")\n",
    "                print(\"Moving files to 'data/images'...\")\n",
    "\n",
    "                # Move all PNG files from 'data' to 'data/images'\n",
    "                for file in data_dir_files:\n",
    "                    src_path = os.path.join('data', file)\n",
    "                    dst_path = os.path.join('data/images', file)\n",
    "                    shutil.move(src_path, dst_path)\n",
    "\n",
    "                print(f\"Successfully moved {len(data_dir_files)} PNG files to 'data/images'\")\n",
    "            else:\n",
    "                # Check if images might be in a subdirectory\n",
    "                png_files = []\n",
    "                for root, dirs, files in os.walk(\"data\"):\n",
    "                    for file in files:\n",
    "                        if file.lower().endswith('.png'):\n",
    "                            full_path = os.path.join(root, file)\n",
    "                            png_files.append(full_path)\n",
    "\n",
    "                if png_files:\n",
    "                    print(f\"Found {len(png_files)} PNG files in subdirectories\")\n",
    "                    print(\"First few files:\")\n",
    "                    for file in png_files[:5]:\n",
    "                        print(f\"  - {file}\")\n",
    "\n",
    "                    # Extract the directory where most images are\n",
    "                    dir_counts = {}\n",
    "                    for file in png_files:\n",
    "                        parent_dir = os.path.dirname(file)\n",
    "                        dir_counts[parent_dir] = dir_counts.get(parent_dir, 0) + 1\n",
    "\n",
    "                    # Find directory with most images\n",
    "                    most_common_dir = max(dir_counts.items(), key=lambda x: x[1])[0]\n",
    "                    print(f\"Most images found in: {most_common_dir}\")\n",
    "\n",
    "                    # Update CAPTCHA_DIR to this location\n",
    "                    CAPTCHA_DIR = most_common_dir\n",
    "                else:\n",
    "                    print(\"No PNG files found after extraction\")\n",
    "                    CAPTCHA_DIR = 'data/images'  # Default location\n",
    "\n",
    "        except zipfile.BadZipFile:\n",
    "            print(\"Error: The downloaded file is not a valid ZIP file.\")\n",
    "            print(\"Please upload a valid ZIP file containing CAPTCHA images\")\n",
    "    except Exception as e:\n",
    "        print(f\"Error downloading or extracting the file: {str(e)}\")\n",
    "        print(\"Please upload the CAPTCHA images manually\")"
   ]
  },
  {
   "cell_type": "markdown",
   "metadata": {},
   "source": [
    "### CAPTCHA Recognition Challenge\n",
    "\n",
    "In this notebook, we'll build a baseline model for recognizing text in CAPTCHA images.\n",
    "CAPTCHAs (Completely Automated Public Turing test to tell Computers and Humans Apart)\n",
    "are distorted text images designed to be difficult for computers to read.\n",
    "\n",
    "Your task is to improve this baseline model in one of the following ways:\n",
    "1. Add data augmentation for better robustness\n",
    "2. Modify the architecture to reduce inference time\n",
    "3. Improve preprocessing to handle noise\n",
    "\n",
    "The baseline model achieves approximately 40-60% accuracy with high variance.\n",
    "Your goal is to demonstrate measurable improvement over this baseline."
   ]
  },
  {
   "cell_type": "code",
   "execution_count": null,
   "metadata": {},
   "outputs": [],
   "source": [
    "import os\n",
    "from pathlib import Path\n",
    "import numpy as np\n",
    "import torch\n",
    "import torch.nn as nn\n",
    "import torch.optim as optim\n",
    "from torch.utils.data import Dataset, DataLoader\n",
    "from torchvision import transforms\n",
    "from PIL import Image, ImageFilter, ImageEnhance\n",
    "import matplotlib.pyplot as plt\n",
    "from tqdm.auto import tqdm\n",
    "\n",
    "# Constant for CTC blank token\n",
    "BLANK_TOKEN = 0"
   ]
  },
  {
   "cell_type": "markdown",
   "metadata": {},
   "source": [
    "### Configuration\n",
    "\n",
    "This Config class contains all the parameters for our model and training process.\n",
    "You might want to experiment with these values as you improve the model."
   ]
  },
  {
   "cell_type": "code",
   "execution_count": null,
   "metadata": {},
   "outputs": [],
   "source": [
    "class Config:\n",
    "    # Model parameters\n",
    "    IMG_WIDTH = 65\n",
    "    IMG_HEIGHT = 25\n",
    "    DROPOUT_RATE = 0.3\n",
    "\n",
    "    # Training parameters\n",
    "    BATCH_SIZE = 64\n",
    "    LEARNING_RATE = 0.01\n",
    "    NUM_EPOCHS = 40\n",
    "\n",
    "    # Dataset parameters\n",
    "    TARGET_FOLDER = CAPTCHA_DIR\n",
    "    MAX_SAMPLES = 4000            # Maximum number of samples to use\n",
    "    TRAIN_RATIO = 0.9             # Ratio of training to validation data\n",
    "\n",
    "    # Misc\n",
    "    RANDOM_SEED = 69\n",
    "    MODEL_SAVE_PATH = 'captcha_model.pth'\n",
    "\n",
    "CONFIG = Config()"
   ]
  },
  {
   "cell_type": "markdown",
   "metadata": {},
   "source": [
    "### Dataset Class\n",
    "The CaptchaDataset class handles loading and preprocessing CAPTCHA images.\n",
    "It converts the images to tensors and prepares the labels for training."
   ]
  },
  {
   "cell_type": "code",
   "execution_count": null,
   "metadata": {},
   "outputs": [],
   "source": [
    "class CaptchaDataset(Dataset):\n",
    "    def __init__(self, image_paths, labels, char_to_idx, max_length, transform=None):\n",
    "        self.image_paths = image_paths\n",
    "        self.labels = labels\n",
    "        self.char_to_idx = char_to_idx\n",
    "        self.max_length = max_length\n",
    "        self.transform = transform\n",
    "\n",
    "    def __len__(self):\n",
    "        return len(self.image_paths)\n",
    "\n",
    "    def __getitem__(self, idx):\n",
    "        try:\n",
    "            img_path = self.image_paths[idx]\n",
    "            image = Image.open(img_path).convert('L')  # Convert to grayscale\n",
    "\n",
    "            if self.transform:\n",
    "                image = self.transform(image)\n",
    "\n",
    "            label = self.labels[idx]\n",
    "            label_indices = [self.char_to_idx[c] for c in label]\n",
    "            label_length = len(label)\n",
    "\n",
    "            # Pad label to max_length\n",
    "            label_indices = label_indices + [BLANK_TOKEN] * (self.max_length - label_length)\n",
    "\n",
    "            return {\n",
    "                'image': image,\n",
    "                'label': torch.tensor(label_indices, dtype=torch.long),\n",
    "                'label_length': torch.tensor(label_length, dtype=torch.long)\n",
    "            }\n",
    "        except Exception as e:\n",
    "            print(f\"Error loading image {self.image_paths[idx]}: {e}\")\n",
    "            return {\n",
    "                'image': torch.zeros((1, CONFIG.IMG_HEIGHT, CONFIG.IMG_WIDTH)),\n",
    "                'label': torch.tensor([BLANK_TOKEN] * self.max_length, dtype=torch.long),\n",
    "                'label_length': torch.tensor(0, dtype=torch.long)\n",
    "            }"
   ]
  },
  {
   "cell_type": "markdown",
   "metadata": {},
   "source": [
    "### Model Architecture\n",
    "\n",
    "Our baseline model architecture has three main components:\n",
    "1. CNN layer for feature extraction\n",
    "2. Bidirectional LSTM for sequence modeling\n",
    "3. Linear layer for classification\n"
   ]
  },
  {
   "cell_type": "code",
   "execution_count": null,
   "metadata": {},
   "outputs": [],
   "source": [
    "class CaptchaModelWithTrainablePreprocessing(nn.Module):\n",
    "    \"\"\"Combined model with enhanced trainable preprocessing and recognition\"\"\"\n",
    "    \n",
    "    def __init__(self, num_chars, dropout_rate=CONFIG.DROPOUT_RATE, \n",
    "                initial_upscale_factor=2.0,\n",
    "                initial_contrast_factor=1.2,\n",
    "                initial_sharpness=0.5):\n",
    "        super().__init__()\n",
    "        \n",
    "        # Initialize the trainable preprocessor with our enhanced version\n",
    "        self.preprocessor = TrainablePreprocessor(\n",
    "            initial_upscale_factor=initial_upscale_factor,\n",
    "            initial_contrast_factor=initial_contrast_factor,\n",
    "            initial_sharpness=initial_sharpness\n",
    "        )\n",
    "        \n",
    "        # Initialize the recognition model\n",
    "        self.captcha_model = CaptchaModel(num_chars, dropout_rate)\n",
    "    \n",
    "    def forward(self, x):\n",
    "        # First preprocess the image\n",
    "        x = self.preprocessor(x)\n",
    "        # Then pass to recognition model\n",
    "        return self.captcha_model(x)\n",
    "    \n",
    "    def get_preprocessor_params(self):\n",
    "        \"\"\"Get current preprocessor parameters\"\"\"\n",
    "        return self.preprocessor.get_params()"
   ]
  },
  {
   "cell_type": "code",
   "execution_count": null,
   "metadata": {},
   "outputs": [],
   "source": [
    "import torch\n",
    "import torch.nn as nn\n",
    "import torch.nn.functional as F\n",
    "import torch.optim as optim\n",
    "from torch.utils.data import Dataset, DataLoader\n",
    "from torchvision import transforms\n",
    "from tqdm import tqdm\n",
    "import matplotlib.pyplot as plt\n",
    "import os\n",
    "import numpy as np\n",
    "from PIL import Image\n",
    "\n",
    "class TrainablePreprocessor(nn.Module):\n",
    "    \"\"\"Fixed preprocessor with trainable parameters that ensures gradient flow\"\"\"\n",
    "    \n",
    "    def __init__(self, \n",
    "                 initial_upscale_factor=2.0,\n",
    "                 initial_contrast_factor=1.2, \n",
    "                 initial_brightness=1.0,\n",
    "                 initial_sharpness=0.5):\n",
    "        super().__init__()\n",
    "        \n",
    "        # Create trainable parameters with initial values\n",
    "        self.log_upscale_factor = nn.Parameter(torch.log(torch.tensor(float(initial_upscale_factor))))\n",
    "        self.contrast_factor = nn.Parameter(torch.tensor(float(initial_contrast_factor)))\n",
    "        self.brightness = nn.Parameter(torch.tensor(float(initial_brightness)))\n",
    "        self.sharpness = nn.Parameter(torch.tensor(float(initial_sharpness)))\n",
    "        \n",
    "        # Learnable sharpening kernel\n",
    "        kernel_init = torch.tensor([\n",
    "            [-0.1, -0.5, -0.1],\n",
    "            [-0.5,  5.0, -0.5],\n",
    "            [-0.1, -0.5, -0.1]\n",
    "        ]).float().reshape(1, 1, 3, 3) / 3.0\n",
    "        \n",
    "        self.sharpen_kernel = nn.Parameter(kernel_init)\n",
    "        self.sharpen_blend_weight = nn.Parameter(torch.tensor(0.5))\n",
    "        \n",
    "    def forward(self, x):\n",
    "        # Ensure parameters directly participate in computation to receive gradients\n",
    "        upscale = torch.exp(self.log_upscale_factor).clamp(1.0, 4.0)\n",
    "        contrast = self.contrast_factor.clamp(0.5, 3.0)\n",
    "        brightness = self.brightness.clamp(0.5, 2.0)\n",
    "        sharpness = torch.sigmoid(self.sharpness)  # Ensures 0-1 range with better gradients\n",
    "        \n",
    "        # Ensure input is in the right format [B, C, H, W]\n",
    "        if len(x.shape) == 3:\n",
    "            x = x.unsqueeze(1)\n",
    "            \n",
    "        # Apply upscaling - IMPORTANT: calculate sizes as tensors, not items\n",
    "        # This ensures gradient flow to upscale parameter\n",
    "        current_height, current_width = x.shape[2], x.shape[3]\n",
    "        upscale_float = upscale.clone()  # Ensure it's detached for integer conversion\n",
    "        target_height = int(current_height * upscale_float.item())\n",
    "        target_width = int(current_width * upscale_float.item())\n",
    "        \n",
    "        # Store original for residual connection\n",
    "        x_original = x\n",
    "        \n",
    "        # Use interpolate with align_corners for better gradients\n",
    "        x = F.interpolate(x, size=(target_height, target_width), \n",
    "                         mode='bilinear', align_corners=True)\n",
    "        \n",
    "        # Apply brightness - multiply directly with parameter for gradient flow\n",
    "        x = x * brightness\n",
    "        \n",
    "        # Apply contrast adjustment\n",
    "        x_mean = torch.mean(x, dim=[2, 3], keepdim=True)\n",
    "        x = (x - x_mean) * contrast + x_mean\n",
    "        \n",
    "        # Apply sharpening - ensure sharpness is directly used\n",
    "        # Create a padded version for convolution\n",
    "        padded_x = F.pad(x, (1, 1, 1, 1), mode='reflect')\n",
    "        sharpened = F.conv2d(padded_x, self.sharpen_kernel)\n",
    "        \n",
    "        # Key fix: Ensure sharpness parameter is directly involved in computation\n",
    "        sharp_weight = sharpness * self.sharpen_blend_weight\n",
    "        x = x * (1 - sharp_weight) + sharpened * sharp_weight\n",
    "        \n",
    "        # Resize to target dimensions for the model\n",
    "        x = F.interpolate(x, size=(CONFIG.IMG_HEIGHT, CONFIG.IMG_WIDTH), \n",
    "                         mode='bilinear', align_corners=True)\n",
    "        \n",
    "        # Add residual connection to improve gradient flow\n",
    "        x_residual = F.interpolate(x_original, size=(CONFIG.IMG_HEIGHT, CONFIG.IMG_WIDTH),\n",
    "                                 mode='bilinear', align_corners=True)\n",
    "        x = x * 0.8 + x_residual * 0.2\n",
    "        \n",
    "        # Normalize to [-1, 1] range for model\n",
    "        x = (x - 0.5) / 0.5\n",
    "        \n",
    "        return x\n",
    "    \n",
    "    def get_params(self):\n",
    "        \"\"\"Get current parameter values for reporting\"\"\"\n",
    "        return {\n",
    "            'upscale_factor': torch.exp(self.log_upscale_factor).item(),\n",
    "            'contrast_factor': self.contrast_factor.item(),\n",
    "            'brightness': self.brightness.item(),\n",
    "            'sharpness': torch.sigmoid(self.sharpness).item(),\n",
    "            'sharpen_blend': self.sharpen_blend_weight.item()\n",
    "        }"
   ]
  },
  {
   "cell_type": "code",
   "execution_count": null,
   "metadata": {},
   "outputs": [],
   "source": [
    "def plot_preprocessor_evolution(history):\n",
    "    \"\"\"Enhanced plot showing parameter evolution and gradients during training\"\"\"\n",
    "    if 'preprocessor_params' not in history:\n",
    "        print(\"No preprocessor parameters in history\")\n",
    "        return\n",
    "        \n",
    "    params = history['preprocessor_params']\n",
    "    gradients = history.get('param_gradients', [])\n",
    "    epochs = list(range(1, len(params) + 1))\n",
    "    \n",
    "    # Plot all parameters\n",
    "    plt.figure(figsize=(15, 10))\n",
    "    \n",
    "    # Plot each parameter's evolution\n",
    "    plt.subplot(2, 3, 1)\n",
    "    plt.plot(epochs, [p['upscale_factor'] for p in params], 'b-', linewidth=2)\n",
    "    plt.title('Upscale Factor')\n",
    "    plt.xlabel('Epoch')\n",
    "    plt.ylabel('Value')\n",
    "    plt.grid(True)\n",
    "    \n",
    "    plt.subplot(2, 3, 2)\n",
    "    plt.plot(epochs, [p['contrast_factor'] for p in params], 'g-', linewidth=2)\n",
    "    plt.title('Contrast Factor')\n",
    "    plt.xlabel('Epoch')\n",
    "    plt.ylabel('Value')\n",
    "    plt.grid(True)\n",
    "    \n",
    "    plt.subplot(2, 3, 3)\n",
    "    plt.plot(epochs, [p['brightness'] for p in params], 'r-', linewidth=2)\n",
    "    plt.title('Brightness')\n",
    "    plt.xlabel('Epoch')\n",
    "    plt.ylabel('Value')\n",
    "    plt.grid(True)\n",
    "    \n",
    "    plt.subplot(2, 3, 4)\n",
    "    plt.plot(epochs, [p['sharpness'] for p in params], 'm-', linewidth=2)\n",
    "    plt.title('Sharpness')\n",
    "    plt.xlabel('Epoch')\n",
    "    plt.ylabel('Value')\n",
    "    plt.grid(True)\n",
    "    \n",
    "    # If we have gradient information, plot it\n",
    "    if gradients:\n",
    "        plt.subplot(2, 3, 5)\n",
    "        plt.semilogy(epochs, [g['upscale_factor'] for g in gradients], 'b-', label='Upscale')\n",
    "        plt.semilogy(epochs, [g['contrast_factor'] for g in gradients], 'g-', label='Contrast')\n",
    "        plt.semilogy(epochs, [g['brightness'] for g in gradients], 'r-', label='Brightness')\n",
    "        plt.semilogy(epochs, [g['sharpness'] for g in gradients], 'm-', label='Sharpness')\n",
    "        plt.title('Parameter Gradients (log scale)')\n",
    "        plt.xlabel('Epoch')\n",
    "        plt.ylabel('Gradient Magnitude')\n",
    "        plt.legend()\n",
    "        plt.grid(True)\n",
    "        \n",
    "    # Plot for performance metrics\n",
    "    if 'train_loss' in history and 'val_loss' in history:\n",
    "        plt.subplot(2, 3, 6)\n",
    "        plt.plot(epochs, history['train_loss'], 'b-', label='Train Loss')\n",
    "        plt.plot(epochs, history['val_loss'], 'r-', label='Val Loss')\n",
    "        if 'val_accuracy' in history:\n",
    "            ax1 = plt.gca()\n",
    "            ax2 = ax1.twinx()\n",
    "            ax2.plot(epochs, history['val_accuracy'], 'g-', label='Accuracy')\n",
    "            ax2.set_ylabel('Accuracy (%)')\n",
    "            ax2.spines['right'].set_color('g')\n",
    "            ax2.tick_params(axis='y', colors='g')\n",
    "        plt.title('Training Progress')\n",
    "        plt.xlabel('Epoch')\n",
    "        plt.ylabel('Loss')\n",
    "        plt.legend()\n",
    "        plt.grid(True)\n",
    "    \n",
    "    plt.tight_layout()\n",
    "    plt.show()\n",
    "    \n",
    "    # Print final values\n",
    "    print(\"\\nFinal preprocessing parameters:\")\n",
    "    for key in params[0].keys():\n",
    "        start_val = params[0][key]\n",
    "        end_val = params[-1][key]\n",
    "        change = end_val - start_val\n",
    "        print(f\"{key}: {start_val:.3f} → {end_val:.3f} (Change: {change:+.3f})\")"
   ]
  },
  {
   "cell_type": "code",
   "execution_count": null,
   "metadata": {},
   "outputs": [],
   "source": [
    "class RawCaptchaDataset(Dataset):\n",
    "    \"\"\"Dataset that provides raw images without preprocessing\"\"\"\n",
    "    \n",
    "    def __init__(self, image_paths, labels, char_to_idx, max_length):\n",
    "        self.image_paths = image_paths\n",
    "        self.labels = labels\n",
    "        self.char_to_idx = char_to_idx\n",
    "        self.max_length = max_length\n",
    "\n",
    "    def __len__(self):\n",
    "        return len(self.image_paths)\n",
    "\n",
    "    def __getitem__(self, idx):\n",
    "        try:\n",
    "            img_path = self.image_paths[idx]\n",
    "            image = Image.open(img_path).convert('L')  # Convert to grayscale\n",
    "            \n",
    "            # Convert to tensor (0-1 range) without preprocessing\n",
    "            image_tensor = transforms.ToTensor()(image)\n",
    "\n",
    "            label = self.labels[idx]\n",
    "            label_indices = [self.char_to_idx[c] for c in label]\n",
    "            label_length = len(label)\n",
    "\n",
    "            # Pad label to max_length\n",
    "            label_indices = label_indices + [BLANK_TOKEN] * (self.max_length - label_length)\n",
    "\n",
    "            return {\n",
    "                'image': image_tensor,\n",
    "                'label': torch.tensor(label_indices, dtype=torch.long),\n",
    "                'label_length': torch.tensor(label_length, dtype=torch.long)\n",
    "            }\n",
    "        except Exception as e:\n",
    "            print(f\"Error loading image {self.image_paths[idx]}: {e}\")\n",
    "            # Return empty data in case of error\n",
    "            return {\n",
    "                'image': torch.zeros((1, CONFIG.IMG_HEIGHT, CONFIG.IMG_WIDTH)),\n",
    "                'label': torch.tensor([BLANK_TOKEN] * self.max_length, dtype=torch.long),\n",
    "                'label_length': torch.tensor(0, dtype=torch.long)\n",
    "            }"
   ]
  },
  {
   "cell_type": "code",
   "execution_count": null,
   "metadata": {},
   "outputs": [],
   "source": [
    "def decode_predictions(outputs, idx_to_char):\n",
    "    \"\"\"Convert model outputs to text predictions\"\"\"\n",
    "    predictions = []\n",
    "    output_args = torch.argmax(outputs.detach().cpu(), dim=2)\n",
    "\n",
    "    for pred in output_args:\n",
    "        text = ''\n",
    "        prev_char = None\n",
    "\n",
    "        for p in pred:\n",
    "            p_item = p.item()\n",
    "            # Only add character if it's not blank and not a repeat\n",
    "            if p_item != BLANK_TOKEN and p_item != prev_char:\n",
    "                if p_item in idx_to_char:\n",
    "                    text += idx_to_char[p_item]\n",
    "            prev_char = p_item\n",
    "\n",
    "        predictions.append(text)\n",
    "\n",
    "    return predictions\n",
    "\n",
    "def get_text_from_indices(indices, idx_to_char, length):\n",
    "    \"\"\"Convert indices to text\"\"\"\n",
    "    return ''.join([idx_to_char[idx.item()]\n",
    "                  for idx in indices[:length]\n",
    "                  if idx.item() != BLANK_TOKEN and idx.item() in idx_to_char])\n",
    "\n",
    "def evaluate_with_loss(model, val_loader, device, idx_to_char, criterion):\n",
    "    \"\"\"Evaluation function with error handling\"\"\"\n",
    "    model.eval()\n",
    "    correct = 0\n",
    "    total = 0\n",
    "    val_loss = 0.0\n",
    "    \n",
    "    with torch.no_grad():  # No gradients needed for evaluation\n",
    "        for batch in val_loader:\n",
    "            images = batch['image'].to(device)\n",
    "            labels = batch['label'].to(device) \n",
    "            label_lengths = batch['label_length'].to(device)\n",
    "            \n",
    "            # Forward pass\n",
    "            outputs = model(images)\n",
    "            \n",
    "            # Calculate loss\n",
    "            outputs_trans = outputs.transpose(0, 1)\n",
    "            input_lengths = torch.full((outputs.size(0),), outputs.size(1), dtype=torch.long, device=device)\n",
    "            \n",
    "            loss = criterion(outputs_trans, labels, input_lengths, label_lengths)\n",
    "            val_loss += loss.item()\n",
    "            \n",
    "            # Predict\n",
    "            predictions = outputs.argmax(2)\n",
    "            batch_correct = 0\n",
    "            \n",
    "            # Compare predictions with labels\n",
    "            for i in range(len(predictions)):\n",
    "                pred_label = predictions[i].tolist()\n",
    "                # Remove duplicates and blanks\n",
    "                decoded_pred = []\n",
    "                prev = -1\n",
    "                for p in pred_label:\n",
    "                    if p != BLANK_TOKEN and p != prev:\n",
    "                        decoded_pred.append(p)\n",
    "                    prev = p\n",
    "                \n",
    "                # Convert indices to characters\n",
    "                pred_str = ''.join([idx_to_char.get(idx, '') for idx in decoded_pred])\n",
    "                \n",
    "                # Get true label\n",
    "                true_label = batch['label'][i][:batch['label_length'][i]].tolist()\n",
    "                true_str = ''.join([idx_to_char.get(idx, '') for idx in true_label])\n",
    "                \n",
    "                if pred_str == true_str:\n",
    "                    correct += 1\n",
    "                    batch_correct += 1\n",
    "                total += 1\n",
    "    \n",
    "    # Calculate accuracy\n",
    "    accuracy = (correct / total) * 100 if total > 0 else 0\n",
    "    val_loss /= len(val_loader) if len(val_loader) > 0 else 1\n",
    "    \n",
    "    return accuracy, val_loss, correct, total"
   ]
  },
  {
   "cell_type": "code",
   "execution_count": null,
   "metadata": {},
   "outputs": [],
   "source": [
    "def train_model_with_trainable_preprocessing(model, train_loader, val_loader, idx_to_char, criterion=None):\n",
    "    \"\"\"Training function with proper gradient checking\"\"\"\n",
    "    device = torch.device('cuda' if torch.cuda.is_available() else 'cpu')\n",
    "    print(f\"Using device: {device}\")\n",
    "\n",
    "    model = model.to(device)\n",
    "\n",
    "    # Create parameter groups with different learning rates\n",
    "    optimizer = optim.Adam([\n",
    "        {'params': [model.preprocessor.log_upscale_factor], 'lr': CONFIG.LEARNING_RATE * 0.5},\n",
    "        {'params': [model.preprocessor.sharpness], 'lr': CONFIG.LEARNING_RATE * 0.5},\n",
    "        {'params': [model.preprocessor.contrast_factor], 'lr': CONFIG.LEARNING_RATE * 0.3},\n",
    "        {'params': [model.preprocessor.brightness], 'lr': CONFIG.LEARNING_RATE * 0.3},\n",
    "        {'params': [model.preprocessor.sharpen_kernel], 'lr': CONFIG.LEARNING_RATE * 0.2},\n",
    "        {'params': [model.preprocessor.sharpen_blend_weight], 'lr': CONFIG.LEARNING_RATE * 0.3},\n",
    "        {'params': model.captcha_model.parameters(), 'lr': CONFIG.LEARNING_RATE}\n",
    "    ])\n",
    "\n",
    "    # Use scheduler to reduce learning rate during training\n",
    "    scheduler = optim.lr_scheduler.ReduceLROnPlateau(\n",
    "        optimizer, mode='min', factor=0.5, patience=3, verbose=True\n",
    "    )\n",
    "\n",
    "    # CTC Loss for sequence labeling\n",
    "    if criterion is None:\n",
    "        criterion = nn.CTCLoss(blank=BLANK_TOKEN, zero_infinity=True)\n",
    "\n",
    "    # History tracking\n",
    "    history = {\n",
    "        'train_loss': [],\n",
    "        'val_loss': [],\n",
    "        'val_accuracy': [],\n",
    "        'preprocessor_params': [],  # Track parameter evolution\n",
    "        'param_gradients': []  # Track parameter gradients\n",
    "    }\n",
    "\n",
    "    for epoch in range(CONFIG.NUM_EPOCHS):\n",
    "        # Training phase\n",
    "        model.train()\n",
    "        train_loss = 0.0\n",
    "        epoch_gradients = {\n",
    "            'upscale_factor': 0.0,\n",
    "            'contrast_factor': 0.0,\n",
    "            'brightness': 0.0,\n",
    "            'sharpness': 0.0\n",
    "        }\n",
    "        batches_processed = 0\n",
    "\n",
    "        for batch in tqdm(train_loader, desc=f\"Epoch {epoch+1}/{CONFIG.NUM_EPOCHS}\"):\n",
    "            images = batch['image'].to(device)\n",
    "            labels = batch['label'].to(device)\n",
    "            label_lengths = batch['label_length'].to(device)\n",
    "\n",
    "            # Clear gradients\n",
    "            optimizer.zero_grad()\n",
    "\n",
    "            # Forward pass\n",
    "            outputs = model(images)\n",
    "\n",
    "            # Prepare for CTC loss\n",
    "            outputs_trans = outputs.transpose(0, 1)\n",
    "            input_lengths = torch.full((outputs.size(0),), outputs.size(1), dtype=torch.long, device=device)\n",
    "\n",
    "            # Calculate loss\n",
    "            loss = criterion(outputs_trans, labels, input_lengths, label_lengths)\n",
    "\n",
    "            # Backward pass and optimize\n",
    "            loss.backward()\n",
    "            \n",
    "            # FIXED: Safely check gradients and record magnitudes\n",
    "            epoch_gradients['upscale_factor'] += torch.abs(model.preprocessor.log_upscale_factor.grad).item() if model.preprocessor.log_upscale_factor.grad is not None else 0.0\n",
    "            epoch_gradients['contrast_factor'] += torch.abs(model.preprocessor.contrast_factor.grad).item() if model.preprocessor.contrast_factor.grad is not None else 0.0\n",
    "            epoch_gradients['brightness'] += torch.abs(model.preprocessor.brightness.grad).item() if model.preprocessor.brightness.grad is not None else 0.0\n",
    "            epoch_gradients['sharpness'] += torch.abs(model.preprocessor.sharpness.grad).item() if model.preprocessor.sharpness.grad is not None else 0.0\n",
    "            \n",
    "            # Gradient clipping to prevent large updates\n",
    "            torch.nn.utils.clip_grad_norm_(model.parameters(), max_norm=5.0)\n",
    "            \n",
    "            optimizer.step()\n",
    "            train_loss += loss.item()\n",
    "            batches_processed += 1\n",
    "\n",
    "        # Average loss for the epoch\n",
    "        train_loss /= len(train_loader)\n",
    "        history['train_loss'].append(train_loss)\n",
    "        \n",
    "        # Average gradients for the epoch\n",
    "        for key in epoch_gradients:\n",
    "            epoch_gradients[key] /= max(1, batches_processed)\n",
    "            \n",
    "        history['param_gradients'].append(epoch_gradients)\n",
    "        \n",
    "        # Track preprocessor parameters\n",
    "        history['preprocessor_params'].append(model.preprocessor.get_params())\n",
    "\n",
    "        # Validation phase\n",
    "        accuracy, val_loss, correct, total = evaluate_with_loss(\n",
    "            model, val_loader, device, idx_to_char, criterion\n",
    "        )\n",
    "        history['val_loss'].append(val_loss)\n",
    "        history['val_accuracy'].append(accuracy)\n",
    "        \n",
    "        # Update learning rate based on validation loss\n",
    "        scheduler.step(val_loss)\n",
    "\n",
    "        # Log metrics\n",
    "        print(f\"Epoch {epoch+1}/{CONFIG.NUM_EPOCHS} - \"\n",
    "              f\"Train Loss: {train_loss:.4f}, Val Loss: {val_loss:.4f}, \"\n",
    "              f\"Validation Accuracy: {accuracy:.2f}% ({correct}/{total})\")\n",
    "        \n",
    "        # Log preprocessor parameters\n",
    "        params = model.preprocessor.get_params()\n",
    "        print(f\"Preprocessor params: Upscale={params['upscale_factor']:.2f}, \"\n",
    "              f\"Contrast={params['contrast_factor']:.2f}, \"\n",
    "              f\"Brightness={params['brightness']:.2f}, \"\n",
    "              f\"Sharpness={params['sharpness']:.2f}\")\n",
    "        \n",
    "        # Log parameter gradients\n",
    "        print(f\"Parameter gradients: Upscale={epoch_gradients['upscale_factor']:.6f}, \"\n",
    "              f\"Contrast={epoch_gradients['contrast_factor']:.6f}, \"\n",
    "              f\"Brightness={epoch_gradients['brightness']:.6f}, \"\n",
    "              f\"Sharpness={epoch_gradients['sharpness']:.6f}\")\n",
    "\n",
    "    # Save final model\n",
    "    torch.save(model.state_dict(), CONFIG.MODEL_SAVE_PATH)\n",
    "    print(f\"Model saved to {CONFIG.MODEL_SAVE_PATH}\")\n",
    "\n",
    "    return model, history"
   ]
  },
  {
   "cell_type": "code",
   "execution_count": null,
   "metadata": {},
   "outputs": [],
   "source": [
    "def visualize_dataset_samples(data_loader, idx_to_char, num_samples=16):\n",
    "    \"\"\"Visualize sample images from the dataset with their labels\"\"\"\n",
    "    batch = next(iter(data_loader))\n",
    "    images = batch['image']\n",
    "    labels = batch['label']\n",
    "    label_lengths = batch['label_length']\n",
    "\n",
    "    # Calculate grid dimensions\n",
    "    grid_size = min(num_samples, len(images))\n",
    "    cols = 4\n",
    "    rows = (grid_size + cols - 1) // cols\n",
    "\n",
    "    plt.figure(figsize=(12, 3 * rows))\n",
    "\n",
    "    for i in range(grid_size):\n",
    "        plt.subplot(rows, cols, i + 1)\n",
    "\n",
    "        # Convert tensor to numpy and display image\n",
    "        img = images[i].squeeze().numpy()\n",
    "        plt.imshow(img, cmap='gray')\n",
    "\n",
    "        # Get the original text label\n",
    "        label_length = label_lengths[i].item()\n",
    "        text = get_text_from_indices(labels[i], idx_to_char, label_length)\n",
    "\n",
    "        plt.title(f\"Label: {text}\")\n",
    "        plt.axis('off')\n",
    "\n",
    "    plt.tight_layout()\n",
    "    plt.show()\n",
    "\n",
    "def plot_history(history):\n",
    "    \"\"\"Plot training history metrics\"\"\"\n",
    "    fig, (ax1, ax2) = plt.subplots(1, 2, figsize=(15, 5))\n",
    "\n",
    "    # Plot training and validation loss\n",
    "    ax1.plot(history['train_loss'], label='Training Loss')\n",
    "    ax1.plot(history['val_loss'], label='Validation Loss')\n",
    "    ax1.set_title('Training and Validation Loss')\n",
    "    ax1.set_xlabel('Epoch')\n",
    "    ax1.set_ylabel('Loss')\n",
    "    ax1.legend()\n",
    "    ax1.grid(True)\n",
    "\n",
    "    # Plot validation accuracy\n",
    "    ax2.plot(history['val_accuracy'])\n",
    "    ax2.set_title('Validation Accuracy')\n",
    "    ax2.set_xlabel('Epoch')\n",
    "    ax2.set_ylabel('Accuracy (%)')\n",
    "    ax2.grid(True)\n",
    "\n",
    "    plt.tight_layout()\n",
    "    plt.show()"
   ]
  },
  {
   "cell_type": "code",
   "execution_count": null,
   "metadata": {},
   "outputs": [],
   "source": [
    "def load_and_prepare_raw_data():\n",
    "    \"\"\"Load data without preprocessing for use with trainable preprocessor\"\"\"\n",
    "    try:\n",
    "        # Get all PNG files from the CAPTCHA_DIR\n",
    "        if os.path.isdir(CONFIG.TARGET_FOLDER):\n",
    "            dir_img = [os.path.join(CONFIG.TARGET_FOLDER, f)\n",
    "                      for f in os.listdir(CONFIG.TARGET_FOLDER)\n",
    "                      if f.lower().endswith('.png')]\n",
    "        else:\n",
    "            dir_img = [f for f in png_files if f.lower().endswith('.png')]\n",
    "\n",
    "        if not dir_img:\n",
    "            raise FileNotFoundError(f\"No images found in {CONFIG.TARGET_FOLDER}\")\n",
    "\n",
    "        # Set random seed for reproducibility\n",
    "        np.random.seed(CONFIG.RANDOM_SEED)\n",
    "        np.random.shuffle(dir_img)\n",
    "\n",
    "        # Limit number of samples\n",
    "        if CONFIG.MAX_SAMPLES and CONFIG.MAX_SAMPLES < len(dir_img):\n",
    "            dir_img = dir_img[:CONFIG.MAX_SAMPLES]\n",
    "\n",
    "        # Extract labels from filenames\n",
    "        img_labels = [os.path.splitext(os.path.basename(img))[0] for img in dir_img]\n",
    "\n",
    "        # Create character mappings\n",
    "        char_img = sorted(list(set(char for label in img_labels for char in label)))\n",
    "        char_to_idx = {char: idx+1 for idx, char in enumerate(char_img)}\n",
    "        idx_to_char = {idx+1: char for idx, char in enumerate(char_img)}\n",
    "\n",
    "        # Find maximum label length for padding\n",
    "        max_length = max(len(label) for label in img_labels)\n",
    "\n",
    "        # Split data into train and validation sets\n",
    "        train_size = int(len(dir_img) * CONFIG.TRAIN_RATIO)\n",
    "        train_img = dir_img[:train_size]\n",
    "        train_labels = img_labels[:train_size]\n",
    "        val_img = dir_img[train_size:]\n",
    "        val_labels = img_labels[train_size:]\n",
    "\n",
    "        # Create datasets with raw images (no preprocessing)\n",
    "        train_dataset = RawCaptchaDataset(train_img, train_labels, char_to_idx, max_length)\n",
    "        val_dataset = RawCaptchaDataset(val_img, val_labels, char_to_idx, max_length)\n",
    "\n",
    "        # Create dataloaders\n",
    "        train_loader = DataLoader(train_dataset, batch_size=CONFIG.BATCH_SIZE, shuffle=True)\n",
    "        val_loader = DataLoader(val_dataset, batch_size=CONFIG.BATCH_SIZE, shuffle=False)\n",
    "\n",
    "        print(f\"Total samples: {len(dir_img)}\")\n",
    "        print(f\"Training samples: {len(train_img)}\")\n",
    "        print(f\"Validation samples: {len(val_img)}\")\n",
    "        print(f\"Character set: {''.join(char_img)}\")\n",
    "\n",
    "        return train_loader, val_loader, idx_to_char, max_length\n",
    "\n",
    "    except Exception as e:\n",
    "        print(f\"Error preparing data: {e}\")\n",
    "        raise"
   ]
  },
  {
   "cell_type": "code",
   "execution_count": null,
   "metadata": {},
   "outputs": [],
   "source": [
    "def main_with_trainable_preprocessing():\n",
    "    try:\n",
    "        # Load raw data without preprocessing\n",
    "        train_loader, val_loader, idx_to_char, max_length = load_and_prepare_raw_data()\n",
    "\n",
    "        # Create model with trainable preprocessing\n",
    "        num_chars = len(idx_to_char)\n",
    "        model = CaptchaModelWithTrainablePreprocessing(\n",
    "            num_chars=num_chars,\n",
    "            initial_upscale_factor=2.0,\n",
    "            initial_contrast_factor=1.2,\n",
    "            initial_sharpness=0.5\n",
    "        )\n",
    "\n",
    "        print(\"Starting training with trainable preprocessing...\")\n",
    "        \n",
    "        # Train the model\n",
    "        model, history = train_model_with_trainable_preprocessing(\n",
    "            model, train_loader, val_loader, idx_to_char\n",
    "        )\n",
    "\n",
    "        # Plot training history\n",
    "        plot_history(history)\n",
    "        \n",
    "        # Plot preprocessor parameter evolution\n",
    "        plot_preprocessor_evolution(history)\n",
    "\n",
    "        # Report final parameters\n",
    "        params = model.get_preprocessor_params()\n",
    "        print(\"\\nOptimal preprocessing parameters found by the model:\")\n",
    "        for param, value in params.items():\n",
    "            print(f\"  {param}: {value:.4f}\")\n",
    "\n",
    "        return model, history\n",
    "\n",
    "    except Exception as e:\n",
    "        print(f\"Error in training: {e}\")\n",
    "        import traceback\n",
    "        traceback.print_exc()\n",
    "        return None  # Return None instead of letting the exception propagate"
   ]
  },
  {
   "cell_type": "code",
   "execution_count": null,
   "metadata": {},
   "outputs": [
    {
     "name": "stdout",
     "output_type": "stream",
     "text": [
      "Total samples: 5000\n",
      "Training samples: 4500\n",
      "Validation samples: 500\n",
      "Character set: 2345789ABCDEFHKLMNPRTUVWXYZ\n",
      "Starting training with trainable preprocessing...\n",
      "Using device: cuda\n"
     ]
    },
    {
     "name": "stderr",
     "output_type": "stream",
     "text": [
      "Epoch 1/70: 100%|██████████| 71/71 [00:21<00:00,  3.35it/s]\n"
     ]
    },
    {
     "name": "stdout",
     "output_type": "stream",
     "text": [
      "Epoch 1/70 - Train Loss: 4.2572, Val Loss: 3.6424, Validation Accuracy: 0.00% (0/500)\n",
      "Preprocessor params: Upscale=2.00, Contrast=1.20, Brightness=1.04, Sharpness=0.63\n",
      "Parameter gradients: Upscale=0.000000, Contrast=0.006546, Brightness=0.012057, Sharpness=0.000595\n"
     ]
    },
    {
     "name": "stderr",
     "output_type": "stream",
     "text": [
      "Epoch 2/70: 100%|██████████| 71/71 [00:03<00:00, 22.41it/s]\n"
     ]
    },
    {
     "name": "stdout",
     "output_type": "stream",
     "text": [
      "Epoch 2/70 - Train Loss: 3.6516, Val Loss: 3.6044, Validation Accuracy: 0.00% (0/500)\n",
      "Preprocessor params: Upscale=2.00, Contrast=1.16, Brightness=1.04, Sharpness=0.63\n",
      "Parameter gradients: Upscale=0.000000, Contrast=0.001833, Brightness=0.001274, Sharpness=0.000068\n"
     ]
    },
    {
     "name": "stderr",
     "output_type": "stream",
     "text": [
      "Epoch 3/70: 100%|██████████| 71/71 [00:03<00:00, 22.49it/s]\n"
     ]
    },
    {
     "name": "stdout",
     "output_type": "stream",
     "text": [
      "Epoch 3/70 - Train Loss: 3.6238, Val Loss: 3.5983, Validation Accuracy: 0.00% (0/500)\n",
      "Preprocessor params: Upscale=2.00, Contrast=1.09, Brightness=1.07, Sharpness=0.63\n",
      "Parameter gradients: Upscale=0.000000, Contrast=0.003793, Brightness=0.002308, Sharpness=0.000146\n"
     ]
    },
    {
     "name": "stderr",
     "output_type": "stream",
     "text": [
      "Epoch 4/70: 100%|██████████| 71/71 [00:03<00:00, 22.99it/s]\n"
     ]
    },
    {
     "name": "stdout",
     "output_type": "stream",
     "text": [
      "Epoch 4/70 - Train Loss: 3.5832, Val Loss: 3.5877, Validation Accuracy: 0.00% (0/500)\n",
      "Preprocessor params: Upscale=2.00, Contrast=1.05, Brightness=1.07, Sharpness=0.63\n",
      "Parameter gradients: Upscale=0.000000, Contrast=0.003408, Brightness=0.002523, Sharpness=0.000090\n"
     ]
    },
    {
     "name": "stderr",
     "output_type": "stream",
     "text": [
      "Epoch 5/70: 100%|██████████| 71/71 [00:03<00:00, 23.15it/s]\n"
     ]
    },
    {
     "name": "stdout",
     "output_type": "stream",
     "text": [
      "Epoch 5/70 - Train Loss: 3.4991, Val Loss: 3.4453, Validation Accuracy: 0.00% (0/500)\n",
      "Preprocessor params: Upscale=2.00, Contrast=1.04, Brightness=1.05, Sharpness=0.62\n",
      "Parameter gradients: Upscale=0.000000, Contrast=0.006221, Brightness=0.006940, Sharpness=0.000203\n"
     ]
    },
    {
     "name": "stderr",
     "output_type": "stream",
     "text": [
      "Epoch 6/70: 100%|██████████| 71/71 [00:03<00:00, 21.34it/s]\n"
     ]
    },
    {
     "name": "stdout",
     "output_type": "stream",
     "text": [
      "Epoch 6/70 - Train Loss: 3.3083, Val Loss: 3.4494, Validation Accuracy: 0.00% (0/500)\n",
      "Preprocessor params: Upscale=2.00, Contrast=1.13, Brightness=0.96, Sharpness=0.62\n",
      "Parameter gradients: Upscale=0.000000, Contrast=0.010204, Brightness=0.016028, Sharpness=0.001017\n"
     ]
    },
    {
     "name": "stderr",
     "output_type": "stream",
     "text": [
      "Epoch 7/70: 100%|██████████| 71/71 [00:02<00:00, 23.82it/s]\n"
     ]
    },
    {
     "name": "stdout",
     "output_type": "stream",
     "text": [
      "Epoch 7/70 - Train Loss: 2.9859, Val Loss: 2.7788, Validation Accuracy: 0.00% (0/500)\n",
      "Preprocessor params: Upscale=2.00, Contrast=1.17, Brightness=0.91, Sharpness=0.64\n",
      "Parameter gradients: Upscale=0.000000, Contrast=0.015360, Brightness=0.037207, Sharpness=0.004509\n"
     ]
    },
    {
     "name": "stderr",
     "output_type": "stream",
     "text": [
      "Epoch 8/70: 100%|██████████| 71/71 [00:03<00:00, 22.77it/s]\n"
     ]
    },
    {
     "name": "stdout",
     "output_type": "stream",
     "text": [
      "Epoch 8/70 - Train Loss: 2.5458, Val Loss: 2.3069, Validation Accuracy: 0.20% (1/500)\n",
      "Preprocessor params: Upscale=2.00, Contrast=1.12, Brightness=0.92, Sharpness=0.64\n",
      "Parameter gradients: Upscale=0.000000, Contrast=0.029886, Brightness=0.098785, Sharpness=0.009772\n"
     ]
    },
    {
     "name": "stderr",
     "output_type": "stream",
     "text": [
      "Epoch 9/70: 100%|██████████| 71/71 [00:03<00:00, 22.94it/s]\n"
     ]
    },
    {
     "name": "stdout",
     "output_type": "stream",
     "text": [
      "Epoch 9/70 - Train Loss: 1.9758, Val Loss: 1.6880, Validation Accuracy: 5.20% (26/500)\n",
      "Preprocessor params: Upscale=2.00, Contrast=1.10, Brightness=0.94, Sharpness=0.63\n",
      "Parameter gradients: Upscale=0.000000, Contrast=0.029712, Brightness=0.077932, Sharpness=0.005996\n"
     ]
    },
    {
     "name": "stderr",
     "output_type": "stream",
     "text": [
      "Epoch 10/70: 100%|██████████| 71/71 [00:03<00:00, 21.21it/s]\n"
     ]
    },
    {
     "name": "stdout",
     "output_type": "stream",
     "text": [
      "Epoch 10/70 - Train Loss: 1.5270, Val Loss: 1.5538, Validation Accuracy: 9.80% (49/500)\n",
      "Preprocessor params: Upscale=2.00, Contrast=1.04, Brightness=0.96, Sharpness=0.62\n",
      "Parameter gradients: Upscale=0.000000, Contrast=0.044667, Brightness=0.098260, Sharpness=0.003695\n"
     ]
    },
    {
     "name": "stderr",
     "output_type": "stream",
     "text": [
      "Epoch 11/70: 100%|██████████| 71/71 [00:03<00:00, 19.62it/s]\n"
     ]
    },
    {
     "name": "stdout",
     "output_type": "stream",
     "text": [
      "Epoch 11/70 - Train Loss: 1.1934, Val Loss: 0.9396, Validation Accuracy: 24.20% (121/500)\n",
      "Preprocessor params: Upscale=2.00, Contrast=1.01, Brightness=0.97, Sharpness=0.63\n",
      "Parameter gradients: Upscale=0.000000, Contrast=0.052469, Brightness=0.098997, Sharpness=0.003661\n"
     ]
    },
    {
     "name": "stderr",
     "output_type": "stream",
     "text": [
      "Epoch 12/70: 100%|██████████| 71/71 [00:03<00:00, 20.87it/s]\n"
     ]
    },
    {
     "name": "stdout",
     "output_type": "stream",
     "text": [
      "Epoch 12/70 - Train Loss: 0.9892, Val Loss: 1.3958, Validation Accuracy: 11.20% (56/500)\n",
      "Preprocessor params: Upscale=2.00, Contrast=1.00, Brightness=0.98, Sharpness=0.62\n",
      "Parameter gradients: Upscale=0.000000, Contrast=0.038492, Brightness=0.064980, Sharpness=0.003943\n"
     ]
    },
    {
     "name": "stderr",
     "output_type": "stream",
     "text": [
      "Epoch 13/70: 100%|██████████| 71/71 [00:03<00:00, 22.15it/s]\n"
     ]
    },
    {
     "name": "stdout",
     "output_type": "stream",
     "text": [
      "Epoch 13/70 - Train Loss: 0.8459, Val Loss: 0.6821, Validation Accuracy: 41.00% (205/500)\n",
      "Preprocessor params: Upscale=2.00, Contrast=0.98, Brightness=0.99, Sharpness=0.63\n",
      "Parameter gradients: Upscale=0.000000, Contrast=0.049006, Brightness=0.070941, Sharpness=0.002961\n"
     ]
    },
    {
     "name": "stderr",
     "output_type": "stream",
     "text": [
      "Epoch 14/70: 100%|██████████| 71/71 [00:03<00:00, 20.56it/s]\n"
     ]
    },
    {
     "name": "stdout",
     "output_type": "stream",
     "text": [
      "Epoch 14/70 - Train Loss: 0.7232, Val Loss: 0.6539, Validation Accuracy: 39.40% (197/500)\n",
      "Preprocessor params: Upscale=2.00, Contrast=0.96, Brightness=1.00, Sharpness=0.62\n",
      "Parameter gradients: Upscale=0.000000, Contrast=0.043030, Brightness=0.067472, Sharpness=0.003360\n"
     ]
    },
    {
     "name": "stderr",
     "output_type": "stream",
     "text": [
      "Epoch 15/70: 100%|██████████| 71/71 [00:02<00:00, 23.96it/s]\n"
     ]
    },
    {
     "name": "stdout",
     "output_type": "stream",
     "text": [
      "Epoch 15/70 - Train Loss: 0.6218, Val Loss: 0.9382, Validation Accuracy: 29.00% (145/500)\n",
      "Preprocessor params: Upscale=2.00, Contrast=0.94, Brightness=1.01, Sharpness=0.63\n",
      "Parameter gradients: Upscale=0.000000, Contrast=0.048696, Brightness=0.066922, Sharpness=0.003592\n"
     ]
    },
    {
     "name": "stderr",
     "output_type": "stream",
     "text": [
      "Epoch 16/70: 100%|██████████| 71/71 [00:03<00:00, 20.63it/s]\n"
     ]
    },
    {
     "name": "stdout",
     "output_type": "stream",
     "text": [
      "Epoch 16/70 - Train Loss: 0.5543, Val Loss: 0.8150, Validation Accuracy: 32.40% (162/500)\n",
      "Preprocessor params: Upscale=2.00, Contrast=0.94, Brightness=1.02, Sharpness=0.64\n",
      "Parameter gradients: Upscale=0.000000, Contrast=0.045133, Brightness=0.061635, Sharpness=0.003834\n"
     ]
    },
    {
     "name": "stderr",
     "output_type": "stream",
     "text": [
      "Epoch 17/70: 100%|██████████| 71/71 [00:03<00:00, 23.06it/s]\n"
     ]
    },
    {
     "name": "stdout",
     "output_type": "stream",
     "text": [
      "Epoch 17/70 - Train Loss: 0.5051, Val Loss: 0.3773, Validation Accuracy: 62.00% (310/500)\n",
      "Preprocessor params: Upscale=2.00, Contrast=0.95, Brightness=1.03, Sharpness=0.64\n",
      "Parameter gradients: Upscale=0.000000, Contrast=0.043757, Brightness=0.056713, Sharpness=0.003925\n"
     ]
    },
    {
     "name": "stderr",
     "output_type": "stream",
     "text": [
      "Epoch 18/70: 100%|██████████| 71/71 [00:02<00:00, 25.87it/s]\n"
     ]
    },
    {
     "name": "stdout",
     "output_type": "stream",
     "text": [
      "Epoch 18/70 - Train Loss: 0.4692, Val Loss: 0.5539, Validation Accuracy: 45.60% (228/500)\n",
      "Preprocessor params: Upscale=2.00, Contrast=0.94, Brightness=1.04, Sharpness=0.65\n",
      "Parameter gradients: Upscale=0.000000, Contrast=0.059132, Brightness=0.067813, Sharpness=0.005264\n"
     ]
    },
    {
     "name": "stderr",
     "output_type": "stream",
     "text": [
      "Epoch 19/70: 100%|██████████| 71/71 [00:03<00:00, 20.68it/s]\n"
     ]
    },
    {
     "name": "stdout",
     "output_type": "stream",
     "text": [
      "Epoch 19/70 - Train Loss: 0.4151, Val Loss: 0.4911, Validation Accuracy: 54.00% (270/500)\n",
      "Preprocessor params: Upscale=2.00, Contrast=0.93, Brightness=1.04, Sharpness=0.64\n",
      "Parameter gradients: Upscale=0.000000, Contrast=0.039198, Brightness=0.048465, Sharpness=0.003553\n"
     ]
    },
    {
     "name": "stderr",
     "output_type": "stream",
     "text": [
      "Epoch 20/70: 100%|██████████| 71/71 [00:03<00:00, 21.24it/s]\n"
     ]
    },
    {
     "name": "stdout",
     "output_type": "stream",
     "text": [
      "Epoch 20/70 - Train Loss: 0.3760, Val Loss: 0.7424, Validation Accuracy: 37.60% (188/500)\n",
      "Preprocessor params: Upscale=2.00, Contrast=0.94, Brightness=1.04, Sharpness=0.64\n",
      "Parameter gradients: Upscale=0.000000, Contrast=0.036883, Brightness=0.042628, Sharpness=0.003528\n"
     ]
    },
    {
     "name": "stderr",
     "output_type": "stream",
     "text": [
      "Epoch 21/70: 100%|██████████| 71/71 [00:03<00:00, 20.68it/s]\n"
     ]
    },
    {
     "name": "stdout",
     "output_type": "stream",
     "text": [
      "Epoch 21/70 - Train Loss: 0.3602, Val Loss: 0.3224, Validation Accuracy: 67.00% (335/500)\n",
      "Preprocessor params: Upscale=2.00, Contrast=0.95, Brightness=1.05, Sharpness=0.65\n",
      "Parameter gradients: Upscale=0.000000, Contrast=0.046593, Brightness=0.052548, Sharpness=0.004729\n"
     ]
    },
    {
     "name": "stderr",
     "output_type": "stream",
     "text": [
      "Epoch 22/70: 100%|██████████| 71/71 [00:03<00:00, 21.50it/s]\n"
     ]
    },
    {
     "name": "stdout",
     "output_type": "stream",
     "text": [
      "Epoch 22/70 - Train Loss: 0.3528, Val Loss: 0.3153, Validation Accuracy: 66.00% (330/500)\n",
      "Preprocessor params: Upscale=2.00, Contrast=0.94, Brightness=1.06, Sharpness=0.66\n",
      "Parameter gradients: Upscale=0.000000, Contrast=0.055403, Brightness=0.056876, Sharpness=0.004770\n"
     ]
    },
    {
     "name": "stderr",
     "output_type": "stream",
     "text": [
      "Epoch 23/70: 100%|██████████| 71/71 [00:03<00:00, 21.52it/s]\n"
     ]
    },
    {
     "name": "stdout",
     "output_type": "stream",
     "text": [
      "Epoch 23/70 - Train Loss: 0.3302, Val Loss: 0.4063, Validation Accuracy: 60.60% (303/500)\n",
      "Preprocessor params: Upscale=2.00, Contrast=0.96, Brightness=1.06, Sharpness=0.65\n",
      "Parameter gradients: Upscale=0.000000, Contrast=0.054963, Brightness=0.053175, Sharpness=0.004682\n"
     ]
    },
    {
     "name": "stderr",
     "output_type": "stream",
     "text": [
      "Epoch 24/70: 100%|██████████| 71/71 [00:03<00:00, 22.35it/s]\n"
     ]
    },
    {
     "name": "stdout",
     "output_type": "stream",
     "text": [
      "Epoch 24/70 - Train Loss: 0.2971, Val Loss: 0.1945, Validation Accuracy: 79.80% (399/500)\n",
      "Preprocessor params: Upscale=2.00, Contrast=0.95, Brightness=1.06, Sharpness=0.65\n",
      "Parameter gradients: Upscale=0.000000, Contrast=0.040253, Brightness=0.039831, Sharpness=0.003932\n"
     ]
    },
    {
     "name": "stderr",
     "output_type": "stream",
     "text": [
      "Epoch 25/70: 100%|██████████| 71/71 [00:03<00:00, 22.49it/s]\n"
     ]
    },
    {
     "name": "stdout",
     "output_type": "stream",
     "text": [
      "Epoch 25/70 - Train Loss: 0.2992, Val Loss: 0.6994, Validation Accuracy: 41.20% (206/500)\n",
      "Preprocessor params: Upscale=2.00, Contrast=0.94, Brightness=1.06, Sharpness=0.65\n",
      "Parameter gradients: Upscale=0.000000, Contrast=0.051286, Brightness=0.046723, Sharpness=0.004903\n"
     ]
    },
    {
     "name": "stderr",
     "output_type": "stream",
     "text": [
      "Epoch 26/70: 100%|██████████| 71/71 [00:03<00:00, 23.56it/s]\n"
     ]
    },
    {
     "name": "stdout",
     "output_type": "stream",
     "text": [
      "Epoch 26/70 - Train Loss: 0.2794, Val Loss: 0.2284, Validation Accuracy: 78.80% (394/500)\n",
      "Preprocessor params: Upscale=2.00, Contrast=0.94, Brightness=1.07, Sharpness=0.66\n",
      "Parameter gradients: Upscale=0.000000, Contrast=0.051299, Brightness=0.048022, Sharpness=0.004135\n"
     ]
    },
    {
     "name": "stderr",
     "output_type": "stream",
     "text": [
      "Epoch 27/70: 100%|██████████| 71/71 [00:03<00:00, 22.05it/s]\n"
     ]
    },
    {
     "name": "stdout",
     "output_type": "stream",
     "text": [
      "Epoch 27/70 - Train Loss: 0.2535, Val Loss: 0.2976, Validation Accuracy: 72.40% (362/500)\n",
      "Preprocessor params: Upscale=2.00, Contrast=0.94, Brightness=1.07, Sharpness=0.66\n",
      "Parameter gradients: Upscale=0.000000, Contrast=0.039823, Brightness=0.037856, Sharpness=0.004371\n"
     ]
    },
    {
     "name": "stderr",
     "output_type": "stream",
     "text": [
      "Epoch 28/70: 100%|██████████| 71/71 [00:03<00:00, 20.39it/s]\n"
     ]
    },
    {
     "name": "stdout",
     "output_type": "stream",
     "text": [
      "Epoch 28/70 - Train Loss: 0.2434, Val Loss: 0.1939, Validation Accuracy: 80.00% (400/500)\n",
      "Preprocessor params: Upscale=2.00, Contrast=0.94, Brightness=1.07, Sharpness=0.66\n",
      "Parameter gradients: Upscale=0.000000, Contrast=0.046354, Brightness=0.039892, Sharpness=0.004073\n"
     ]
    },
    {
     "name": "stderr",
     "output_type": "stream",
     "text": [
      "Epoch 29/70: 100%|██████████| 71/71 [00:02<00:00, 23.83it/s]\n"
     ]
    },
    {
     "name": "stdout",
     "output_type": "stream",
     "text": [
      "Epoch 29/70 - Train Loss: 0.2489, Val Loss: 0.1797, Validation Accuracy: 81.00% (405/500)\n",
      "Preprocessor params: Upscale=2.00, Contrast=0.94, Brightness=1.08, Sharpness=0.66\n",
      "Parameter gradients: Upscale=0.000000, Contrast=0.045876, Brightness=0.043077, Sharpness=0.004320\n"
     ]
    },
    {
     "name": "stderr",
     "output_type": "stream",
     "text": [
      "Epoch 30/70: 100%|██████████| 71/71 [00:03<00:00, 22.54it/s]\n"
     ]
    },
    {
     "name": "stdout",
     "output_type": "stream",
     "text": [
      "Epoch 30/70 - Train Loss: 0.2471, Val Loss: 0.1684, Validation Accuracy: 82.00% (410/500)\n",
      "Preprocessor params: Upscale=2.00, Contrast=0.93, Brightness=1.07, Sharpness=0.66\n",
      "Parameter gradients: Upscale=0.000000, Contrast=0.045127, Brightness=0.042203, Sharpness=0.004776\n"
     ]
    },
    {
     "name": "stderr",
     "output_type": "stream",
     "text": [
      "Epoch 31/70: 100%|██████████| 71/71 [00:03<00:00, 20.80it/s]\n"
     ]
    },
    {
     "name": "stdout",
     "output_type": "stream",
     "text": [
      "Epoch 31/70 - Train Loss: 0.2267, Val Loss: 0.2399, Validation Accuracy: 74.60% (373/500)\n",
      "Preprocessor params: Upscale=2.00, Contrast=0.93, Brightness=1.08, Sharpness=0.66\n",
      "Parameter gradients: Upscale=0.000000, Contrast=0.058398, Brightness=0.050412, Sharpness=0.005260\n"
     ]
    },
    {
     "name": "stderr",
     "output_type": "stream",
     "text": [
      "Epoch 32/70: 100%|██████████| 71/71 [00:03<00:00, 22.94it/s]\n"
     ]
    },
    {
     "name": "stdout",
     "output_type": "stream",
     "text": [
      "Epoch 32/70 - Train Loss: 0.2321, Val Loss: 0.2044, Validation Accuracy: 76.80% (384/500)\n",
      "Preprocessor params: Upscale=2.00, Contrast=0.92, Brightness=1.09, Sharpness=0.66\n",
      "Parameter gradients: Upscale=0.000000, Contrast=0.058829, Brightness=0.056445, Sharpness=0.005834\n"
     ]
    },
    {
     "name": "stderr",
     "output_type": "stream",
     "text": [
      "Epoch 33/70: 100%|██████████| 71/71 [00:03<00:00, 23.49it/s]\n"
     ]
    },
    {
     "name": "stdout",
     "output_type": "stream",
     "text": [
      "Epoch 33/70 - Train Loss: 0.2340, Val Loss: 0.2165, Validation Accuracy: 75.40% (377/500)\n",
      "Preprocessor params: Upscale=2.00, Contrast=0.93, Brightness=1.09, Sharpness=0.67\n",
      "Parameter gradients: Upscale=0.000000, Contrast=0.039587, Brightness=0.036643, Sharpness=0.004012\n"
     ]
    },
    {
     "name": "stderr",
     "output_type": "stream",
     "text": [
      "Epoch 34/70: 100%|██████████| 71/71 [00:03<00:00, 20.99it/s]\n"
     ]
    },
    {
     "name": "stdout",
     "output_type": "stream",
     "text": [
      "Epoch 34/70 - Train Loss: 0.2361, Val Loss: 0.3214, Validation Accuracy: 64.20% (321/500)\n",
      "Preprocessor params: Upscale=2.00, Contrast=0.92, Brightness=1.09, Sharpness=0.67\n",
      "Parameter gradients: Upscale=0.000000, Contrast=0.060135, Brightness=0.049797, Sharpness=0.005619\n"
     ]
    },
    {
     "name": "stderr",
     "output_type": "stream",
     "text": [
      "Epoch 35/70: 100%|██████████| 71/71 [00:03<00:00, 21.75it/s]\n"
     ]
    },
    {
     "name": "stdout",
     "output_type": "stream",
     "text": [
      "Epoch 35/70 - Train Loss: 0.1607, Val Loss: 0.1458, Validation Accuracy: 83.40% (417/500)\n",
      "Preprocessor params: Upscale=2.00, Contrast=0.92, Brightness=1.09, Sharpness=0.67\n",
      "Parameter gradients: Upscale=0.000000, Contrast=0.032150, Brightness=0.027254, Sharpness=0.003765\n"
     ]
    },
    {
     "name": "stderr",
     "output_type": "stream",
     "text": [
      "Epoch 36/70: 100%|██████████| 71/71 [00:02<00:00, 23.97it/s]\n"
     ]
    },
    {
     "name": "stdout",
     "output_type": "stream",
     "text": [
      "Epoch 36/70 - Train Loss: 0.1356, Val Loss: 0.1155, Validation Accuracy: 86.20% (431/500)\n",
      "Preprocessor params: Upscale=2.00, Contrast=0.93, Brightness=1.09, Sharpness=0.67\n",
      "Parameter gradients: Upscale=0.000000, Contrast=0.029596, Brightness=0.022468, Sharpness=0.002786\n"
     ]
    },
    {
     "name": "stderr",
     "output_type": "stream",
     "text": [
      "Epoch 37/70: 100%|██████████| 71/71 [00:03<00:00, 21.35it/s]\n"
     ]
    },
    {
     "name": "stdout",
     "output_type": "stream",
     "text": [
      "Epoch 37/70 - Train Loss: 0.1355, Val Loss: 0.1214, Validation Accuracy: 86.20% (431/500)\n",
      "Preprocessor params: Upscale=2.00, Contrast=0.93, Brightness=1.09, Sharpness=0.67\n",
      "Parameter gradients: Upscale=0.000000, Contrast=0.029741, Brightness=0.024202, Sharpness=0.002676\n"
     ]
    },
    {
     "name": "stderr",
     "output_type": "stream",
     "text": [
      "Epoch 38/70: 100%|██████████| 71/71 [00:03<00:00, 22.94it/s]\n"
     ]
    },
    {
     "name": "stdout",
     "output_type": "stream",
     "text": [
      "Epoch 38/70 - Train Loss: 0.1267, Val Loss: 0.1275, Validation Accuracy: 85.40% (427/500)\n",
      "Preprocessor params: Upscale=2.00, Contrast=0.94, Brightness=1.09, Sharpness=0.67\n",
      "Parameter gradients: Upscale=0.000000, Contrast=0.026659, Brightness=0.020684, Sharpness=0.002910\n"
     ]
    },
    {
     "name": "stderr",
     "output_type": "stream",
     "text": [
      "Epoch 39/70: 100%|██████████| 71/71 [00:02<00:00, 23.91it/s]\n"
     ]
    },
    {
     "name": "stdout",
     "output_type": "stream",
     "text": [
      "Epoch 39/70 - Train Loss: 0.1254, Val Loss: 0.1351, Validation Accuracy: 86.20% (431/500)\n",
      "Preprocessor params: Upscale=2.00, Contrast=0.95, Brightness=1.09, Sharpness=0.67\n",
      "Parameter gradients: Upscale=0.000000, Contrast=0.028970, Brightness=0.021270, Sharpness=0.002891\n"
     ]
    },
    {
     "name": "stderr",
     "output_type": "stream",
     "text": [
      "Epoch 40/70: 100%|██████████| 71/71 [00:03<00:00, 23.19it/s]\n"
     ]
    },
    {
     "name": "stdout",
     "output_type": "stream",
     "text": [
      "Epoch 40/70 - Train Loss: 0.1262, Val Loss: 0.1090, Validation Accuracy: 88.40% (442/500)\n",
      "Preprocessor params: Upscale=2.00, Contrast=0.94, Brightness=1.10, Sharpness=0.67\n",
      "Parameter gradients: Upscale=0.000000, Contrast=0.039601, Brightness=0.028788, Sharpness=0.003651\n"
     ]
    },
    {
     "name": "stderr",
     "output_type": "stream",
     "text": [
      "Epoch 41/70: 100%|██████████| 71/71 [00:03<00:00, 22.28it/s]\n"
     ]
    },
    {
     "name": "stdout",
     "output_type": "stream",
     "text": [
      "Epoch 41/70 - Train Loss: 0.1157, Val Loss: 0.0971, Validation Accuracy: 89.60% (448/500)\n",
      "Preprocessor params: Upscale=2.00, Contrast=0.94, Brightness=1.10, Sharpness=0.67\n",
      "Parameter gradients: Upscale=0.000000, Contrast=0.029378, Brightness=0.023475, Sharpness=0.003026\n"
     ]
    },
    {
     "name": "stderr",
     "output_type": "stream",
     "text": [
      "Epoch 42/70: 100%|██████████| 71/71 [00:03<00:00, 22.93it/s]\n"
     ]
    },
    {
     "name": "stdout",
     "output_type": "stream",
     "text": [
      "Epoch 42/70 - Train Loss: 0.1079, Val Loss: 0.1193, Validation Accuracy: 88.60% (443/500)\n",
      "Preprocessor params: Upscale=2.00, Contrast=0.94, Brightness=1.09, Sharpness=0.67\n",
      "Parameter gradients: Upscale=0.000000, Contrast=0.029360, Brightness=0.022614, Sharpness=0.002991\n"
     ]
    },
    {
     "name": "stderr",
     "output_type": "stream",
     "text": [
      "Epoch 43/70: 100%|██████████| 71/71 [00:03<00:00, 22.72it/s]\n"
     ]
    },
    {
     "name": "stdout",
     "output_type": "stream",
     "text": [
      "Epoch 43/70 - Train Loss: 0.1031, Val Loss: 0.1015, Validation Accuracy: 89.40% (447/500)\n",
      "Preprocessor params: Upscale=2.00, Contrast=0.95, Brightness=1.10, Sharpness=0.67\n",
      "Parameter gradients: Upscale=0.000000, Contrast=0.025213, Brightness=0.017683, Sharpness=0.002658\n"
     ]
    },
    {
     "name": "stderr",
     "output_type": "stream",
     "text": [
      "Epoch 44/70: 100%|██████████| 71/71 [00:03<00:00, 23.05it/s]\n"
     ]
    },
    {
     "name": "stdout",
     "output_type": "stream",
     "text": [
      "Epoch 44/70 - Train Loss: 0.1086, Val Loss: 0.1977, Validation Accuracy: 77.60% (388/500)\n",
      "Preprocessor params: Upscale=2.00, Contrast=0.96, Brightness=1.10, Sharpness=0.67\n",
      "Parameter gradients: Upscale=0.000000, Contrast=0.031848, Brightness=0.021918, Sharpness=0.002789\n"
     ]
    },
    {
     "name": "stderr",
     "output_type": "stream",
     "text": [
      "Epoch 45/70: 100%|██████████| 71/71 [00:03<00:00, 21.97it/s]\n"
     ]
    },
    {
     "name": "stdout",
     "output_type": "stream",
     "text": [
      "Epoch 45/70 - Train Loss: 0.1133, Val Loss: 0.0999, Validation Accuracy: 88.00% (440/500)\n",
      "Preprocessor params: Upscale=2.00, Contrast=0.95, Brightness=1.10, Sharpness=0.67\n",
      "Parameter gradients: Upscale=0.000000, Contrast=0.033824, Brightness=0.028157, Sharpness=0.003881\n"
     ]
    },
    {
     "name": "stderr",
     "output_type": "stream",
     "text": [
      "Epoch 46/70: 100%|██████████| 71/71 [00:03<00:00, 23.45it/s]\n"
     ]
    },
    {
     "name": "stdout",
     "output_type": "stream",
     "text": [
      "Epoch 46/70 - Train Loss: 0.0895, Val Loss: 0.1021, Validation Accuracy: 88.40% (442/500)\n",
      "Preprocessor params: Upscale=2.00, Contrast=0.95, Brightness=1.10, Sharpness=0.67\n",
      "Parameter gradients: Upscale=0.000000, Contrast=0.024758, Brightness=0.020608, Sharpness=0.002603\n"
     ]
    },
    {
     "name": "stderr",
     "output_type": "stream",
     "text": [
      "Epoch 47/70: 100%|██████████| 71/71 [00:02<00:00, 24.53it/s]\n"
     ]
    },
    {
     "name": "stdout",
     "output_type": "stream",
     "text": [
      "Epoch 47/70 - Train Loss: 0.0834, Val Loss: 0.0902, Validation Accuracy: 90.80% (454/500)\n",
      "Preprocessor params: Upscale=2.00, Contrast=0.95, Brightness=1.10, Sharpness=0.67\n",
      "Parameter gradients: Upscale=0.000000, Contrast=0.026366, Brightness=0.019810, Sharpness=0.002736\n"
     ]
    },
    {
     "name": "stderr",
     "output_type": "stream",
     "text": [
      "Epoch 48/70: 100%|██████████| 71/71 [00:03<00:00, 20.70it/s]\n"
     ]
    },
    {
     "name": "stdout",
     "output_type": "stream",
     "text": [
      "Epoch 48/70 - Train Loss: 0.0803, Val Loss: 0.0809, Validation Accuracy: 92.00% (460/500)\n",
      "Preprocessor params: Upscale=2.00, Contrast=0.95, Brightness=1.10, Sharpness=0.67\n",
      "Parameter gradients: Upscale=0.000000, Contrast=0.023625, Brightness=0.016659, Sharpness=0.002170\n"
     ]
    },
    {
     "name": "stderr",
     "output_type": "stream",
     "text": [
      "Epoch 49/70: 100%|██████████| 71/71 [00:02<00:00, 25.52it/s]\n"
     ]
    },
    {
     "name": "stdout",
     "output_type": "stream",
     "text": [
      "Epoch 49/70 - Train Loss: 0.0763, Val Loss: 0.0861, Validation Accuracy: 91.00% (455/500)\n",
      "Preprocessor params: Upscale=2.00, Contrast=0.95, Brightness=1.10, Sharpness=0.67\n",
      "Parameter gradients: Upscale=0.000000, Contrast=0.024712, Brightness=0.018193, Sharpness=0.002620\n"
     ]
    },
    {
     "name": "stderr",
     "output_type": "stream",
     "text": [
      "Epoch 50/70: 100%|██████████| 71/71 [00:03<00:00, 21.93it/s]\n"
     ]
    },
    {
     "name": "stdout",
     "output_type": "stream",
     "text": [
      "Epoch 50/70 - Train Loss: 0.0772, Val Loss: 0.0748, Validation Accuracy: 91.60% (458/500)\n",
      "Preprocessor params: Upscale=2.00, Contrast=0.95, Brightness=1.10, Sharpness=0.67\n",
      "Parameter gradients: Upscale=0.000000, Contrast=0.024258, Brightness=0.017068, Sharpness=0.002368\n"
     ]
    },
    {
     "name": "stderr",
     "output_type": "stream",
     "text": [
      "Epoch 51/70: 100%|██████████| 71/71 [00:03<00:00, 22.99it/s]\n"
     ]
    },
    {
     "name": "stdout",
     "output_type": "stream",
     "text": [
      "Epoch 51/70 - Train Loss: 0.0810, Val Loss: 0.1150, Validation Accuracy: 85.60% (428/500)\n",
      "Preprocessor params: Upscale=2.00, Contrast=0.95, Brightness=1.10, Sharpness=0.67\n",
      "Parameter gradients: Upscale=0.000000, Contrast=0.024391, Brightness=0.016012, Sharpness=0.002167\n"
     ]
    },
    {
     "name": "stderr",
     "output_type": "stream",
     "text": [
      "Epoch 52/70: 100%|██████████| 71/71 [00:03<00:00, 20.17it/s]\n"
     ]
    },
    {
     "name": "stdout",
     "output_type": "stream",
     "text": [
      "Epoch 52/70 - Train Loss: 0.0719, Val Loss: 0.0835, Validation Accuracy: 90.80% (454/500)\n",
      "Preprocessor params: Upscale=2.00, Contrast=0.96, Brightness=1.10, Sharpness=0.68\n",
      "Parameter gradients: Upscale=0.000000, Contrast=0.020004, Brightness=0.013858, Sharpness=0.001893\n"
     ]
    },
    {
     "name": "stderr",
     "output_type": "stream",
     "text": [
      "Epoch 53/70: 100%|██████████| 71/71 [00:02<00:00, 23.79it/s]\n"
     ]
    },
    {
     "name": "stdout",
     "output_type": "stream",
     "text": [
      "Epoch 53/70 - Train Loss: 0.0721, Val Loss: 0.0903, Validation Accuracy: 90.40% (452/500)\n",
      "Preprocessor params: Upscale=2.00, Contrast=0.95, Brightness=1.10, Sharpness=0.68\n",
      "Parameter gradients: Upscale=0.000000, Contrast=0.024356, Brightness=0.017999, Sharpness=0.002835\n"
     ]
    },
    {
     "name": "stderr",
     "output_type": "stream",
     "text": [
      "Epoch 54/70: 100%|██████████| 71/71 [00:02<00:00, 23.93it/s]\n"
     ]
    },
    {
     "name": "stdout",
     "output_type": "stream",
     "text": [
      "Epoch 54/70 - Train Loss: 0.0765, Val Loss: 0.0936, Validation Accuracy: 90.00% (450/500)\n",
      "Preprocessor params: Upscale=2.00, Contrast=0.95, Brightness=1.10, Sharpness=0.68\n",
      "Parameter gradients: Upscale=0.000000, Contrast=0.022054, Brightness=0.015972, Sharpness=0.002484\n"
     ]
    },
    {
     "name": "stderr",
     "output_type": "stream",
     "text": [
      "Epoch 55/70: 100%|██████████| 71/71 [00:03<00:00, 21.37it/s]\n"
     ]
    },
    {
     "name": "stdout",
     "output_type": "stream",
     "text": [
      "Epoch 55/70 - Train Loss: 0.0675, Val Loss: 0.0757, Validation Accuracy: 92.00% (460/500)\n",
      "Preprocessor params: Upscale=2.00, Contrast=0.95, Brightness=1.10, Sharpness=0.68\n",
      "Parameter gradients: Upscale=0.000000, Contrast=0.022614, Brightness=0.016776, Sharpness=0.002485\n"
     ]
    },
    {
     "name": "stderr",
     "output_type": "stream",
     "text": [
      "Epoch 56/70: 100%|██████████| 71/71 [00:02<00:00, 23.86it/s]\n"
     ]
    },
    {
     "name": "stdout",
     "output_type": "stream",
     "text": [
      "Epoch 56/70 - Train Loss: 0.0655, Val Loss: 0.0753, Validation Accuracy: 92.00% (460/500)\n",
      "Preprocessor params: Upscale=2.00, Contrast=0.95, Brightness=1.10, Sharpness=0.68\n",
      "Parameter gradients: Upscale=0.000000, Contrast=0.020012, Brightness=0.014544, Sharpness=0.001997\n"
     ]
    },
    {
     "name": "stderr",
     "output_type": "stream",
     "text": [
      "Epoch 57/70: 100%|██████████| 71/71 [00:02<00:00, 24.01it/s]\n"
     ]
    },
    {
     "name": "stdout",
     "output_type": "stream",
     "text": [
      "Epoch 57/70 - Train Loss: 0.0628, Val Loss: 0.0808, Validation Accuracy: 91.00% (455/500)\n",
      "Preprocessor params: Upscale=2.00, Contrast=0.95, Brightness=1.10, Sharpness=0.68\n",
      "Parameter gradients: Upscale=0.000000, Contrast=0.017044, Brightness=0.012328, Sharpness=0.001967\n"
     ]
    },
    {
     "name": "stderr",
     "output_type": "stream",
     "text": [
      "Epoch 58/70: 100%|██████████| 71/71 [00:03<00:00, 22.53it/s]\n"
     ]
    },
    {
     "name": "stdout",
     "output_type": "stream",
     "text": [
      "Epoch 58/70 - Train Loss: 0.0597, Val Loss: 0.0873, Validation Accuracy: 90.40% (452/500)\n",
      "Preprocessor params: Upscale=2.00, Contrast=0.95, Brightness=1.10, Sharpness=0.68\n",
      "Parameter gradients: Upscale=0.000000, Contrast=0.020000, Brightness=0.015834, Sharpness=0.002058\n"
     ]
    },
    {
     "name": "stderr",
     "output_type": "stream",
     "text": [
      "Epoch 59/70: 100%|██████████| 71/71 [00:03<00:00, 22.78it/s]\n"
     ]
    },
    {
     "name": "stdout",
     "output_type": "stream",
     "text": [
      "Epoch 59/70 - Train Loss: 0.0604, Val Loss: 0.0725, Validation Accuracy: 92.60% (463/500)\n",
      "Preprocessor params: Upscale=2.00, Contrast=0.95, Brightness=1.10, Sharpness=0.68\n",
      "Parameter gradients: Upscale=0.000000, Contrast=0.018229, Brightness=0.012177, Sharpness=0.001979\n"
     ]
    },
    {
     "name": "stderr",
     "output_type": "stream",
     "text": [
      "Epoch 60/70: 100%|██████████| 71/71 [00:03<00:00, 22.14it/s]\n"
     ]
    },
    {
     "name": "stdout",
     "output_type": "stream",
     "text": [
      "Epoch 60/70 - Train Loss: 0.0549, Val Loss: 0.0654, Validation Accuracy: 94.00% (470/500)\n",
      "Preprocessor params: Upscale=2.00, Contrast=0.95, Brightness=1.10, Sharpness=0.68\n",
      "Parameter gradients: Upscale=0.000000, Contrast=0.017630, Brightness=0.013602, Sharpness=0.002170\n"
     ]
    },
    {
     "name": "stderr",
     "output_type": "stream",
     "text": [
      "Epoch 61/70: 100%|██████████| 71/71 [00:02<00:00, 24.04it/s]\n"
     ]
    },
    {
     "name": "stdout",
     "output_type": "stream",
     "text": [
      "Epoch 61/70 - Train Loss: 0.0560, Val Loss: 0.0655, Validation Accuracy: 93.60% (468/500)\n",
      "Preprocessor params: Upscale=2.00, Contrast=0.95, Brightness=1.10, Sharpness=0.68\n",
      "Parameter gradients: Upscale=0.000000, Contrast=0.019770, Brightness=0.012095, Sharpness=0.001895\n"
     ]
    },
    {
     "name": "stderr",
     "output_type": "stream",
     "text": [
      "Epoch 62/70: 100%|██████████| 71/71 [00:03<00:00, 22.49it/s]\n"
     ]
    },
    {
     "name": "stdout",
     "output_type": "stream",
     "text": [
      "Epoch 62/70 - Train Loss: 0.0561, Val Loss: 0.0695, Validation Accuracy: 93.20% (466/500)\n",
      "Preprocessor params: Upscale=2.00, Contrast=0.95, Brightness=1.10, Sharpness=0.68\n",
      "Parameter gradients: Upscale=0.000000, Contrast=0.018171, Brightness=0.012490, Sharpness=0.001713\n"
     ]
    },
    {
     "name": "stderr",
     "output_type": "stream",
     "text": [
      "Epoch 63/70: 100%|██████████| 71/71 [00:03<00:00, 22.42it/s]\n"
     ]
    },
    {
     "name": "stdout",
     "output_type": "stream",
     "text": [
      "Epoch 63/70 - Train Loss: 0.0589, Val Loss: 0.0666, Validation Accuracy: 93.60% (468/500)\n",
      "Preprocessor params: Upscale=2.00, Contrast=0.95, Brightness=1.10, Sharpness=0.68\n",
      "Parameter gradients: Upscale=0.000000, Contrast=0.021728, Brightness=0.014002, Sharpness=0.002099\n"
     ]
    },
    {
     "name": "stderr",
     "output_type": "stream",
     "text": [
      "Epoch 64/70: 100%|██████████| 71/71 [00:02<00:00, 25.08it/s]\n"
     ]
    },
    {
     "name": "stdout",
     "output_type": "stream",
     "text": [
      "Epoch 64/70 - Train Loss: 0.0557, Val Loss: 0.0694, Validation Accuracy: 92.20% (461/500)\n",
      "Preprocessor params: Upscale=2.00, Contrast=0.96, Brightness=1.10, Sharpness=0.68\n",
      "Parameter gradients: Upscale=0.000000, Contrast=0.017386, Brightness=0.010988, Sharpness=0.001726\n"
     ]
    },
    {
     "name": "stderr",
     "output_type": "stream",
     "text": [
      "Epoch 65/70: 100%|██████████| 71/71 [00:03<00:00, 21.04it/s]\n"
     ]
    },
    {
     "name": "stdout",
     "output_type": "stream",
     "text": [
      "Epoch 65/70 - Train Loss: 0.0515, Val Loss: 0.0681, Validation Accuracy: 93.20% (466/500)\n",
      "Preprocessor params: Upscale=2.00, Contrast=0.95, Brightness=1.10, Sharpness=0.68\n",
      "Parameter gradients: Upscale=0.000000, Contrast=0.019187, Brightness=0.011340, Sharpness=0.001783\n"
     ]
    },
    {
     "name": "stderr",
     "output_type": "stream",
     "text": [
      "Epoch 66/70: 100%|██████████| 71/71 [00:03<00:00, 20.80it/s]\n"
     ]
    },
    {
     "name": "stdout",
     "output_type": "stream",
     "text": [
      "Epoch 66/70 - Train Loss: 0.0535, Val Loss: 0.0671, Validation Accuracy: 93.20% (466/500)\n",
      "Preprocessor params: Upscale=2.00, Contrast=0.96, Brightness=1.10, Sharpness=0.68\n",
      "Parameter gradients: Upscale=0.000000, Contrast=0.019931, Brightness=0.012428, Sharpness=0.001971\n"
     ]
    },
    {
     "name": "stderr",
     "output_type": "stream",
     "text": [
      "Epoch 67/70: 100%|██████████| 71/71 [00:03<00:00, 21.17it/s]\n"
     ]
    },
    {
     "name": "stdout",
     "output_type": "stream",
     "text": [
      "Epoch 67/70 - Train Loss: 0.0521, Val Loss: 0.0655, Validation Accuracy: 93.80% (469/500)\n",
      "Preprocessor params: Upscale=2.00, Contrast=0.96, Brightness=1.10, Sharpness=0.68\n",
      "Parameter gradients: Upscale=0.000000, Contrast=0.014811, Brightness=0.011767, Sharpness=0.001861\n"
     ]
    },
    {
     "name": "stderr",
     "output_type": "stream",
     "text": [
      "Epoch 68/70: 100%|██████████| 71/71 [00:03<00:00, 23.43it/s]\n"
     ]
    },
    {
     "name": "stdout",
     "output_type": "stream",
     "text": [
      "Epoch 68/70 - Train Loss: 0.0527, Val Loss: 0.0659, Validation Accuracy: 93.60% (468/500)\n",
      "Preprocessor params: Upscale=2.00, Contrast=0.96, Brightness=1.10, Sharpness=0.68\n",
      "Parameter gradients: Upscale=0.000000, Contrast=0.017956, Brightness=0.011825, Sharpness=0.001892\n"
     ]
    },
    {
     "name": "stderr",
     "output_type": "stream",
     "text": [
      "Epoch 69/70: 100%|██████████| 71/71 [00:03<00:00, 20.97it/s]\n"
     ]
    },
    {
     "name": "stdout",
     "output_type": "stream",
     "text": [
      "Epoch 69/70 - Train Loss: 0.0535, Val Loss: 0.0660, Validation Accuracy: 94.20% (471/500)\n",
      "Preprocessor params: Upscale=2.00, Contrast=0.96, Brightness=1.10, Sharpness=0.68\n",
      "Parameter gradients: Upscale=0.000000, Contrast=0.018140, Brightness=0.011129, Sharpness=0.001772\n"
     ]
    },
    {
     "name": "stderr",
     "output_type": "stream",
     "text": [
      "Epoch 70/70: 100%|██████████| 71/71 [00:03<00:00, 21.00it/s]\n"
     ]
    },
    {
     "name": "stdout",
     "output_type": "stream",
     "text": [
      "Epoch 70/70 - Train Loss: 0.0539, Val Loss: 0.0665, Validation Accuracy: 94.00% (470/500)\n",
      "Preprocessor params: Upscale=2.00, Contrast=0.95, Brightness=1.10, Sharpness=0.68\n",
      "Parameter gradients: Upscale=0.000000, Contrast=0.017749, Brightness=0.013157, Sharpness=0.002281\n",
      "Model saved to captcha_model.pth\n"
     ]
    },
    {
     "data": {
      "image/png": "[encoded data removed]",
      "text/plain": [
       "<Figure size 1500x500 with 2 Axes>"
      ]
     },
     "metadata": {},
     "output_type": "display_data"
    },
    {
     "data": {
      "image/png": "[encoded data removed]",
      "text/plain": [
       "<Figure size 1500x1000 with 7 Axes>"
      ]
     },
     "metadata": {},
     "output_type": "display_data"
    },
    {
     "name": "stdout",
     "output_type": "stream",
     "text": [
      "\n",
      "Final preprocessing parameters:\n",
      "upscale_factor: 2.000 → 2.000 (Change: +0.000)\n",
      "contrast_factor: 1.196 → 0.955 (Change: -0.241)\n",
      "brightness: 1.036 → 1.103 (Change: +0.066)\n",
      "sharpness: 0.632 → 0.681 (Change: +0.049)\n",
      "sharpen_blend: 0.524 → 0.657 (Change: +0.133)\n",
      "\n",
      "Optimal preprocessing parameters found by the model:\n",
      "  upscale_factor: 2.0000\n",
      "  contrast_factor: 0.9549\n",
      "  brightness: 1.1026\n",
      "  sharpness: 0.6808\n",
      "  sharpen_blend: 0.6570\n"
     ]
    }
   ],
   "source": [
    "def train_model(model, train_loader, val_loader, idx_to_char):\n",
    "    \"\"\"Train the model and track performance metrics\"\"\"\n",
    "    device = torch.device('cuda' if torch.cuda.is_available() else 'cpu')\n",
    "    print(f\"Using device: {device}\")\n",
    "\n",
    "    model = model.to(device)\n",
    "\n",
    "    optimizer = optim.Adam(model.parameters(), lr=CONFIG.LEARNING_RATE)\n",
    "\n",
    "    # CTC Loss for sequence labeling\n",
    "    criterion = nn.CTCLoss(blank=BLANK_TOKEN, zero_infinity=True)\n",
    "\n",
    "    # History tracking\n",
    "    history = {\n",
    "        'train_loss': [],\n",
    "        'val_loss': [],\n",
    "        'val_accuracy': []\n",
    "    }\n",
    "\n",
    "    for epoch in range(CONFIG.NUM_EPOCHS):\n",
    "        # Training phase\n",
    "        model.train()\n",
    "        train_loss = 0.0\n",
    "\n",
    "        for batch in tqdm(train_loader, desc=f\"Epoch {epoch+1}/{CONFIG.NUM_EPOCHS}\"):\n",
    "            images = batch['image'].to(device)\n",
    "            labels = batch['label']\n",
    "            label_lengths = batch['label_length']\n",
    "\n",
    "            # Clear gradients\n",
    "            optimizer.zero_grad()\n",
    "\n",
    "            # Forward pass\n",
    "            outputs = model(images)\n",
    "\n",
    "            # Prepare for CTC loss\n",
    "            outputs_trans = outputs.transpose(0, 1)\n",
    "            input_lengths = torch.full((outputs.size(0),), outputs.size(1), dtype=torch.long)\n",
    "\n",
    "            # Calculate loss\n",
    "            loss = criterion(outputs_trans, labels, input_lengths, label_lengths)\n",
    "\n",
    "            # Backward pass and optimize\n",
    "            loss.backward()\n",
    "            optimizer.step()\n",
    "\n",
    "            train_loss += loss.item()\n",
    "\n",
    "        # Average loss for the epoch\n",
    "        train_loss /= len(train_loader)\n",
    "        history['train_loss'].append(train_loss)\n",
    "\n",
    "        # Validation phase\n",
    "        accuracy, val_loss, correct, total = evaluate_with_loss(\n",
    "            model, val_loader, device, idx_to_char, criterion\n",
    "        )\n",
    "        history['val_loss'].append(val_loss)\n",
    "        history['val_accuracy'].append(accuracy)\n",
    "\n",
    "        # Log metrics\n",
    "        print(f\"Epoch {epoch+1}/{CONFIG.NUM_EPOCHS} - \"\n",
    "                  f\"Train Loss: {train_loss:.4f}, Val Loss: {val_loss:.4f}, \"\n",
    "                  f\"Validation Accuracy: {accuracy:.2f}% ({correct}/{total})\")\n",
    "\n",
    "    # Save final model\n",
    "    torch.save(model.state_dict(), CONFIG.MODEL_SAVE_PATH)\n",
    "    print(f\"Model saved to {CONFIG.MODEL_SAVE_PATH}\")\n",
    "\n",
    "    return model, history\n",
    "\n",
    "if __name__ == \"__main__\":\n",
    "    model, history = main_with_trainable_preprocessing()"
   ]
  }
 ],
 "metadata": {
  "kernelspec": {
   "display_name": "Python 3",
   "language": "python",
   "name": "python3"
  },
  "language_info": {
   "codemirror_mode": {
    "name": "ipython",
    "version": 3
   },
   "file_extension": ".py",
   "mimetype": "text/x-python",
   "name": "python",
   "nbconvert_exporter": "python",
   "pygments_lexer": "ipython3",
   "version": "3.12.8"
  }
 },
 "nbformat": 4,
 "nbformat_minor": 2
}
